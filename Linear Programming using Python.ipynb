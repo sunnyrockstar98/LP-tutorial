{
 "cells": [
  {
   "cell_type": "markdown",
   "metadata": {},
   "source": [
    "# This report is made to explain everything about Linear Programming.\n",
    "\n",
    "Linear Programming, also sometimes called linear optimisation, involves maximising or minimising a linear objective function, subject to a set of linear inequality or equality constraints.\n",
    "\n",
    "It is one of the simplest methods of performing Optimum Resource Allocation or Linear Optimization.\n",
    "\n",
    "We use linear programming at personal and professional spaces.\n",
    "\n",
    "# Ideal scenarios to use Linear Programming for daily analytics:\n",
    "\n",
    "1. It can be used to analyze supply chain operations in Manufacturing Sector to maximize efficiency with minimum operation cost.\n",
    "\n",
    "2. It is used in organized retail for shelf space optimization.\n",
    "\n",
    "3. Various E-commerce websites and apps use LP to optimize delivery routes which in turn saves operation costs.\n",
    "\n",
    "4. They can also be used in Stock Market Analysis and Sports.\n",
    "\n",
    "5. Anywhere and everywhere linear optimiztion is feasible to save costs LP finds a role!!"
   ]
  },
  {
   "cell_type": "markdown",
   "metadata": {},
   "source": [
    "# A real - life demo to explain Linear Programming\n",
    "\n",
    "The problem is:\n",
    "\n",
    "A car company produces 2 models, model A and model B. Long-term projections indicate an expected demand of at least 100 model A cars and 80 model B cars each day. Because of limitations on production capacity, no more than 200 model A cars and 170 model B cars can be made daily. To satisfy a shipping contract, a total of at least 200 cars much be shipped each day. If each model A car sold results in a $2000 dollars$ loss, but each model B car produces a $5000 dollars$ profit, how many of each type should be made daily to maximize net profits?\n",
    "\n",
    "The Linear Programming approach is \n",
    "1. Take a look at the constraints for the problem\n",
    "2. Visualize all the constraints and find out the feasible region for the above problem\n",
    "3. Find the optimal solution:\n",
    "4. We use matplotlib to plot our feasible region\n",
    "5. We use the Pulp library for this profit maximization problem"
   ]
  },
  {
   "cell_type": "code",
   "execution_count": 2,
   "metadata": {},
   "outputs": [
    {
     "data": {
      "image/png": "[encoded data removed]",
      "text/plain": [
       "<matplotlib.figure.Figure at 0x2395866add8>"
      ]
     },
     "metadata": {},
     "output_type": "display_data"
    }
   ],
   "source": [
    "from matplotlib import pyplot as plt\n",
    "from matplotlib.path import Path\n",
    "from matplotlib.patches import PathPatch\n",
    "\n",
    "import numpy as np\n",
    "\n",
    "# create the plot object\n",
    "fig, ax = plt.subplots(figsize=(8, 8))\n",
    "a = np.linspace(0, 200)\n",
    "\n",
    "plt.plot(a, 200 - a)\n",
    "plt.plot(a,80 - a*0)\n",
    "plt.plot(a,170 - a*0)\n",
    "plt.axvline(x = 100)\n",
    "plt.axvline(x = 200)\n",
    "\n",
    "\n",
    "# highlight the feasible region\n",
    "path = Path([\n",
    "    (100., 100.),\n",
    "    (120., 80.),\n",
    "    (200., 80.),\n",
    "    (200., 170.),\n",
    "    (100., 170.),\n",
    "])\n",
    "\n",
    "\n",
    "patch = PathPatch(path, label='feasible region', alpha=0.5)\n",
    "ax.add_patch(patch)\n",
    "\n",
    "# labels and stuff\n",
    "plt.xlabel('Car A', fontsize=16)\n",
    "plt.ylabel('Car B', fontsize=16)\n",
    "plt.show()"
   ]
  },
  {
   "cell_type": "code",
   "execution_count": 3,
   "metadata": {},
   "outputs": [],
   "source": [
    "# Use Anaconda Prompt and pip install Pulp an amazing library.\n",
    "# PuLP is an LP modeler written in python. PuLP can generate MPS or LP files and call GLPK[1], COIN CLP/CBC[2], CPLEX[3], \n",
    "# and GUROBI[4] to solve linear problems.\n",
    "import pulp"
   ]
  },
  {
   "cell_type": "code",
   "execution_count": 4,
   "metadata": {},
   "outputs": [],
   "source": [
    "# Instantiate our problem class\n",
    "model = pulp.LpProblem(\"Profit maximising problem\", pulp.LpMaximize)\n",
    "\n",
    "# the decision variables in this case won’t be continuous (We can’t sell half a car!), so the category is integer \n",
    "#- advantage of using a class in this manner. Our # of cars is denoted by A and B respectivelly\n",
    "\n",
    "A = pulp.LpVariable('A', lowBound=0, cat='Integer')\n",
    "B = pulp.LpVariable('B', lowBound=0, cat='Integer')"
   ]
  },
  {
   "cell_type": "code",
   "execution_count": 5,
   "metadata": {},
   "outputs": [],
   "source": [
    "# Our Objective function\n",
    "model += - 2000 * A + 5000*B, \"Profit\""
   ]
  },
  {
   "cell_type": "code",
   "execution_count": 6,
   "metadata": {},
   "outputs": [],
   "source": [
    "# Constraints we had on Cars can be added to our model as follows\n",
    "model += A >= 100\n",
    "model += A <=200\n",
    "model += B <= 170\n",
    "model += B >= 80\n",
    "model += 1 * A + 1 * B >= 200"
   ]
  },
  {
   "cell_type": "code",
   "execution_count": 7,
   "metadata": {},
   "outputs": [
    {
     "data": {
      "text/plain": [
       "'Optimal'"
      ]
     },
     "execution_count": 7,
     "metadata": {},
     "output_type": "execute_result"
    }
   ],
   "source": [
    "# Solve our problem\n",
    "model.solve()\n",
    "pulp.LpStatus[model.status]  #This prints solution status"
   ]
  },
  {
   "cell_type": "code",
   "execution_count": 8,
   "metadata": {},
   "outputs": [
    {
     "name": "stdout",
     "output_type": "stream",
     "text": [
      "Production of Car A = 100.0\n",
      "Production of Car B = 170.0\n"
     ]
    }
   ],
   "source": [
    "# Print our decision variable values\n",
    "print (\"Production of Car A = {}\".format(A.varValue))\n",
    "print (\"Production of Car B = {}\".format(B.varValue))"
   ]
  },
  {
   "cell_type": "markdown",
   "metadata": {},
   "source": [
    "Thus the optimal solution for our problem is 100 cars of A and 170 cars of B"
   ]
  },
  {
   "cell_type": "code",
   "execution_count": null,
   "metadata": {},
   "outputs": [],
   "source": []
  }
 ],
 "metadata": {
  "kernelspec": {
   "display_name": "Python 3",
   "language": "python",
   "name": "python3"
  },
  "language_info": {
   "codemirror_mode": {
    "name": "ipython",
    "version": 3
   },
   "file_extension": ".py",
   "mimetype": "text/x-python",
   "name": "python",
   "nbconvert_exporter": "python",
   "pygments_lexer": "ipython3",
   "version": "3.6.4"
  }
 },
 "nbformat": 4,
 "nbformat_minor": 2
}
